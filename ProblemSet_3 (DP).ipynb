{
 "cells": [
  {
   "cell_type": "markdown",
   "id": "c4d84a96",
   "metadata": {},
   "source": [
    "Question 1) From step 1 to step 3!"
   ]
  },
  {
   "cell_type": "code",
   "execution_count": 2,
   "id": "ea927723",
   "metadata": {},
   "outputs": [
    {
     "name": "stdout",
     "output_type": "stream",
     "text": [
      "     user_id  age gender     occupation zip_code\n",
      "0          1   24      M     technician    85711\n",
      "1          2   53      F          other    94043\n",
      "2          3   23      M         writer    32067\n",
      "3          4   24      M     technician    43537\n",
      "4          5   33      F          other    15213\n",
      "..       ...  ...    ...            ...      ...\n",
      "938      939   26      F        student    33319\n",
      "939      940   32      M  administrator    02215\n",
      "940      941   20      M        student    97229\n",
      "941      942   48      F      librarian    78209\n",
      "942      943   22      M        student    77841\n",
      "\n",
      "[943 rows x 5 columns]\n"
     ]
    }
   ],
   "source": [
    "import pandas as pd\n",
    "url = \"https://raw.githubusercontent.com/justmarkham/DAT8/master/data/u.user\"\n",
    "users = pd.read_csv(url, sep='|')\n",
    "print(users)"
   ]
  },
  {
   "cell_type": "markdown",
   "id": "8f40469a",
   "metadata": {},
   "source": [
    "Step 4 - Discover what is the mean age per occupation"
   ]
  },
  {
   "cell_type": "code",
   "execution_count": 4,
   "id": "49c3f564",
   "metadata": {},
   "outputs": [
    {
     "name": "stdout",
     "output_type": "stream",
     "text": [
      "Mean Age per Occupation:\n",
      " occupation\n",
      "administrator    38.746835\n",
      "artist           31.392857\n",
      "doctor           43.571429\n",
      "educator         42.010526\n",
      "engineer         36.388060\n",
      "entertainment    29.222222\n",
      "executive        38.718750\n",
      "healthcare       41.562500\n",
      "homemaker        32.571429\n",
      "lawyer           36.750000\n",
      "librarian        40.000000\n",
      "marketing        37.615385\n",
      "none             26.555556\n",
      "other            34.523810\n",
      "programmer       33.121212\n",
      "retired          63.071429\n",
      "salesman         35.666667\n",
      "scientist        35.548387\n",
      "student          22.081633\n",
      "technician       33.148148\n",
      "writer           36.311111\n",
      "Name: age, dtype: float64\n"
     ]
    }
   ],
   "source": [
    "mean_age_per_occupation = users.groupby('occupation')['age'].mean()\n",
    "print(\"Mean Age per Occupation:\\n\", mean_age_per_occupation)"
   ]
  },
  {
   "cell_type": "markdown",
   "id": "15a0887c",
   "metadata": {},
   "source": [
    "Step 5- Discover the Male ratio per occupation and sort it from the most to the least"
   ]
  },
  {
   "cell_type": "code",
   "execution_count": 5,
   "id": "e872ce9b",
   "metadata": {},
   "outputs": [
    {
     "name": "stdout",
     "output_type": "stream",
     "text": [
      "\n",
      "Male Ratio per Occupation:\n",
      " occupation\n",
      "doctor           1.000000\n",
      "engineer         0.970149\n",
      "technician       0.962963\n",
      "retired          0.928571\n",
      "programmer       0.909091\n",
      "executive        0.906250\n",
      "scientist        0.903226\n",
      "entertainment    0.888889\n",
      "lawyer           0.833333\n",
      "salesman         0.750000\n",
      "educator         0.726316\n",
      "student          0.693878\n",
      "other            0.657143\n",
      "marketing        0.615385\n",
      "writer           0.577778\n",
      "none             0.555556\n",
      "administrator    0.544304\n",
      "artist           0.535714\n",
      "librarian        0.431373\n",
      "healthcare       0.312500\n",
      "homemaker        0.142857\n",
      "Name: gender, dtype: float64\n"
     ]
    }
   ],
   "source": [
    "male_ratio_per_occupation = users.groupby('occupation')['gender'].apply(lambda x: (x == 'M').sum() / x.count()).sort_values(ascending=False)\n",
    "print(\"\\nMale Ratio per Occupation:\\n\", male_ratio_per_occupation)"
   ]
  },
  {
   "cell_type": "markdown",
   "id": "589db9cd",
   "metadata": {},
   "source": [
    "Step 6. For each occupation, calculate the minimum and maximum ages"
   ]
  },
  {
   "cell_type": "code",
   "execution_count": 6,
   "id": "2c14cb9c",
   "metadata": {},
   "outputs": [
    {
     "name": "stdout",
     "output_type": "stream",
     "text": [
      "\n",
      "Minimum and Maximum Ages per Occupation:\n",
      "                min  max\n",
      "occupation             \n",
      "administrator   21   70\n",
      "artist          19   48\n",
      "doctor          28   64\n",
      "educator        23   63\n",
      "engineer        22   70\n",
      "entertainment   15   50\n",
      "executive       22   69\n",
      "healthcare      22   62\n",
      "homemaker       20   50\n",
      "lawyer          21   53\n",
      "librarian       23   69\n",
      "marketing       24   55\n",
      "none            11   55\n",
      "other           13   64\n",
      "programmer      20   63\n",
      "retired         51   73\n",
      "salesman        18   66\n",
      "scientist       23   55\n",
      "student          7   42\n",
      "technician      21   55\n",
      "writer          18   60\n"
     ]
    }
   ],
   "source": [
    "age_range_per_occupation = users.groupby('occupation')['age'].agg(['min', 'max'])\n",
    "print(\"\\nMinimum and Maximum Ages per Occupation:\\n\", age_range_per_occupation)"
   ]
  },
  {
   "cell_type": "markdown",
   "id": "6300f974",
   "metadata": {},
   "source": [
    "Step 7. For each combination of occupation and sex, calculate the mean age "
   ]
  },
  {
   "cell_type": "code",
   "execution_count": 7,
   "id": "f45259e8",
   "metadata": {},
   "outputs": [
    {
     "name": "stdout",
     "output_type": "stream",
     "text": [
      "\n",
      "Mean Age per Combination of Occupation and Sex:\n",
      " occupation     gender\n",
      "administrator  F         40.638889\n",
      "               M         37.162791\n",
      "artist         F         30.307692\n",
      "               M         32.333333\n",
      "doctor         M         43.571429\n",
      "educator       F         39.115385\n",
      "               M         43.101449\n",
      "engineer       F         29.500000\n",
      "               M         36.600000\n",
      "entertainment  F         31.000000\n",
      "               M         29.000000\n",
      "executive      F         44.000000\n",
      "               M         38.172414\n",
      "healthcare     F         39.818182\n",
      "               M         45.400000\n",
      "homemaker      F         34.166667\n",
      "               M         23.000000\n",
      "lawyer         F         39.500000\n",
      "               M         36.200000\n",
      "librarian      F         40.000000\n",
      "               M         40.000000\n",
      "marketing      F         37.200000\n",
      "               M         37.875000\n",
      "none           F         36.500000\n",
      "               M         18.600000\n",
      "other          F         35.472222\n",
      "               M         34.028986\n",
      "programmer     F         32.166667\n",
      "               M         33.216667\n",
      "retired        F         70.000000\n",
      "               M         62.538462\n",
      "salesman       F         27.000000\n",
      "               M         38.555556\n",
      "scientist      F         28.333333\n",
      "               M         36.321429\n",
      "student        F         20.750000\n",
      "               M         22.669118\n",
      "technician     F         38.000000\n",
      "               M         32.961538\n",
      "writer         F         37.631579\n",
      "               M         35.346154\n",
      "Name: age, dtype: float64\n"
     ]
    }
   ],
   "source": [
    "mean_age_per_combination = users.groupby(['occupation', 'gender'])['age'].mean()\n",
    "print(\"\\nMean Age per Combination of Occupation and Sex:\\n\", mean_age_per_combination)"
   ]
  },
  {
   "cell_type": "markdown",
   "id": "26880a96",
   "metadata": {},
   "source": [
    "Step 8. For each occupation present the percentage of women and men"
   ]
  },
  {
   "cell_type": "code",
   "execution_count": 8,
   "id": "1fe4dbcb",
   "metadata": {},
   "outputs": [
    {
     "name": "stdout",
     "output_type": "stream",
     "text": [
      "\n",
      "Percentage of Women and Men per Occupation:\n",
      " occupation     gender\n",
      "administrator  F         0.455696\n",
      "               M         0.544304\n",
      "artist         F         0.464286\n",
      "               M         0.535714\n",
      "doctor         M         1.000000\n",
      "educator       F         0.273684\n",
      "               M         0.726316\n",
      "engineer       F         0.029851\n",
      "               M         0.970149\n",
      "entertainment  F         0.111111\n",
      "               M         0.888889\n",
      "executive      F         0.093750\n",
      "               M         0.906250\n",
      "healthcare     F         0.687500\n",
      "               M         0.312500\n",
      "homemaker      F         0.857143\n",
      "               M         0.142857\n",
      "lawyer         F         0.166667\n",
      "               M         0.833333\n",
      "librarian      F         0.568627\n",
      "               M         0.431373\n",
      "marketing      F         0.384615\n",
      "               M         0.615385\n",
      "none           F         0.444444\n",
      "               M         0.555556\n",
      "other          F         0.342857\n",
      "               M         0.657143\n",
      "programmer     F         0.090909\n",
      "               M         0.909091\n",
      "retired        F         0.071429\n",
      "               M         0.928571\n",
      "salesman       F         0.250000\n",
      "               M         0.750000\n",
      "scientist      F         0.096774\n",
      "               M         0.903226\n",
      "student        F         0.306122\n",
      "               M         0.693878\n",
      "technician     F         0.037037\n",
      "               M         0.962963\n",
      "writer         F         0.422222\n",
      "               M         0.577778\n",
      "dtype: float64\n"
     ]
    }
   ],
   "source": [
    "gender_percentage_per_occupation = users.groupby(['occupation', 'gender']).size() / users.groupby('occupation').size()\n",
    "print(\"\\nPercentage of Women and Men per Occupation:\\n\", gender_percentage_per_occupation)\n"
   ]
  },
  {
   "cell_type": "markdown",
   "id": "a0aaf21a",
   "metadata": {},
   "source": [
    "Question 2)  From step 1 to step 4\n"
   ]
  },
  {
   "cell_type": "code",
   "execution_count": 14,
   "id": "cf292095",
   "metadata": {},
   "outputs": [
    {
     "name": "stdout",
     "output_type": "stream",
     "text": [
      "Goals:\n",
      " 0      4\n",
      "1      4\n",
      "2      4\n",
      "3      5\n",
      "4      3\n",
      "5     10\n",
      "6      5\n",
      "7      6\n",
      "8      2\n",
      "9      2\n",
      "10     6\n",
      "11     1\n",
      "12     5\n",
      "13    12\n",
      "14     5\n",
      "15     2\n",
      "Name: Goals, dtype: int64\n"
     ]
    }
   ],
   "source": [
    "import pandas as pd\n",
    "url = \"https://raw.githubusercontent.com/guipsamora/pandas_exercises/master/02_Filtering_%26_Sorting/Euro12/Euro_2012_stats_TEAM.csv\"\n",
    "euro12 = pd.read_csv(url)\n",
    "goals = euro12['Goals']\n",
    "print(\"Goals:\\n\", goals)"
   ]
  },
  {
   "cell_type": "markdown",
   "id": "f43f7190",
   "metadata": {},
   "source": [
    "Step 5. How many team participated in the Euro2012? "
   ]
  },
  {
   "cell_type": "code",
   "execution_count": 15,
   "id": "b6fb14ee",
   "metadata": {},
   "outputs": [
    {
     "name": "stdout",
     "output_type": "stream",
     "text": [
      "\n",
      "Number of Teams Participated: 16\n"
     ]
    }
   ],
   "source": [
    "num_teams = euro12['Team'].nunique()\n",
    "print(\"\\nNumber of Teams Participated:\", num_teams)"
   ]
  },
  {
   "cell_type": "markdown",
   "id": "10b0267f",
   "metadata": {},
   "source": [
    "Step 6. What is the number of columns in the dataset?"
   ]
  },
  {
   "cell_type": "code",
   "execution_count": 16,
   "id": "402b42ba",
   "metadata": {},
   "outputs": [
    {
     "name": "stdout",
     "output_type": "stream",
     "text": [
      "\n",
      "Number of Columns: 35\n"
     ]
    }
   ],
   "source": [
    "num_columns = len(euro12.columns)\n",
    "print(\"\\nNumber of Columns:\", num_columns)"
   ]
  },
  {
   "cell_type": "markdown",
   "id": "30d0e8aa",
   "metadata": {},
   "source": [
    "Step 7. View only the columns Team, Yellow Cards and Red Cards and assign them \n",
    "to a dataframe called discipline"
   ]
  },
  {
   "cell_type": "code",
   "execution_count": 17,
   "id": "7ec518bf",
   "metadata": {},
   "outputs": [
    {
     "name": "stdout",
     "output_type": "stream",
     "text": [
      "\n",
      "Discipline DataFrame:\n",
      "                    Team  Yellow Cards  Red Cards\n",
      "0               Croatia             9          0\n",
      "1        Czech Republic             7          0\n",
      "2               Denmark             4          0\n",
      "3               England             5          0\n",
      "4                France             6          0\n",
      "5               Germany             4          0\n",
      "6                Greece             9          1\n",
      "7                 Italy            16          0\n",
      "8           Netherlands             5          0\n",
      "9                Poland             7          1\n",
      "10             Portugal            12          0\n",
      "11  Republic of Ireland             6          1\n",
      "12               Russia             6          0\n",
      "13                Spain            11          0\n",
      "14               Sweden             7          0\n",
      "15              Ukraine             5          0\n"
     ]
    }
   ],
   "source": [
    "discipline = euro12[['Team', 'Yellow Cards', 'Red Cards']]\n",
    "print(\"\\nDiscipline DataFrame:\\n\", discipline)"
   ]
  },
  {
   "cell_type": "markdown",
   "id": "40a7e090",
   "metadata": {},
   "source": [
    "Step 8. Sort the teams by Red Cards, then to Yellow Cards \n"
   ]
  },
  {
   "cell_type": "code",
   "execution_count": 18,
   "id": "c3ece626",
   "metadata": {},
   "outputs": [
    {
     "name": "stdout",
     "output_type": "stream",
     "text": [
      "\n",
      "Discipline Sorted DataFrame:\n",
      "                    Team  Yellow Cards  Red Cards\n",
      "6                Greece             9          1\n",
      "9                Poland             7          1\n",
      "11  Republic of Ireland             6          1\n",
      "7                 Italy            16          0\n",
      "10             Portugal            12          0\n",
      "13                Spain            11          0\n",
      "0               Croatia             9          0\n",
      "1        Czech Republic             7          0\n",
      "14               Sweden             7          0\n",
      "4                France             6          0\n",
      "12               Russia             6          0\n",
      "3               England             5          0\n",
      "8           Netherlands             5          0\n",
      "15              Ukraine             5          0\n",
      "2               Denmark             4          0\n",
      "5               Germany             4          0\n"
     ]
    }
   ],
   "source": [
    "discipline_sorted = discipline.sort_values(by=['Red Cards', 'Yellow Cards'], ascending=[False, False])\n",
    "print(\"\\nDiscipline Sorted DataFrame:\\n\", discipline_sorted)"
   ]
  },
  {
   "cell_type": "markdown",
   "id": "dfc555ef",
   "metadata": {},
   "source": [
    "Step 9. Calculate the mean Yellow Cards given per Team\n"
   ]
  },
  {
   "cell_type": "code",
   "execution_count": 19,
   "id": "e9cfad17",
   "metadata": {},
   "outputs": [
    {
     "name": "stdout",
     "output_type": "stream",
     "text": [
      "\n",
      "Mean Yellow Cards per Team: 7.4375\n"
     ]
    }
   ],
   "source": [
    "mean_yellow_cards = euro12['Yellow Cards'].mean()\n",
    "print(\"\\nMean Yellow Cards per Team:\", mean_yellow_cards)"
   ]
  },
  {
   "cell_type": "markdown",
   "id": "f5e91aa8",
   "metadata": {},
   "source": [
    "Step 10. Filter teams that scored more than 6 goals."
   ]
  },
  {
   "cell_type": "code",
   "execution_count": 20,
   "id": "a096260e",
   "metadata": {},
   "outputs": [
    {
     "name": "stdout",
     "output_type": "stream",
     "text": [
      "\n",
      "Teams with more than 6 goals:\n",
      "        Team  Goals  Shots on target  Shots off target Shooting Accuracy  \\\n",
      "5   Germany     10               32                32             47.8%   \n",
      "13    Spain     12               42                33             55.9%   \n",
      "\n",
      "   % Goals-to-shots  Total shots (inc. Blocked)  Hit Woodwork  Penalty goals  \\\n",
      "5             15.6%                          80             2              1   \n",
      "13            16.0%                         100             0              1   \n",
      "\n",
      "    Penalties not scored  ...  Saves made  Saves-to-shots ratio  Fouls Won  \\\n",
      "5                      0  ...          10                 62.6%         63   \n",
      "13                     0  ...          15                 93.8%        102   \n",
      "\n",
      "   Fouls Conceded  Offsides  Yellow Cards  Red Cards  Subs on  Subs off  \\\n",
      "5              49        12             4          0       15        15   \n",
      "13             83        19            11          0       17        17   \n",
      "\n",
      "    Players Used  \n",
      "5             17  \n",
      "13            18  \n",
      "\n",
      "[2 rows x 35 columns]\n"
     ]
    }
   ],
   "source": [
    "teams_more_than_six_goals = euro12[euro12['Goals'] > 6]\n",
    "print(\"\\nTeams with more than 6 goals:\\n\", teams_more_than_six_goals)"
   ]
  },
  {
   "cell_type": "markdown",
   "id": "d1c6a6ac",
   "metadata": {},
   "source": [
    "Step 11. Select the teams that start with G"
   ]
  },
  {
   "cell_type": "code",
   "execution_count": 21,
   "id": "9ba5d372",
   "metadata": {},
   "outputs": [
    {
     "name": "stdout",
     "output_type": "stream",
     "text": [
      "\n",
      "Teams starting with 'G':\n",
      "       Team  Goals  Shots on target  Shots off target Shooting Accuracy  \\\n",
      "5  Germany     10               32                32             47.8%   \n",
      "6   Greece      5                8                18             30.7%   \n",
      "\n",
      "  % Goals-to-shots  Total shots (inc. Blocked)  Hit Woodwork  Penalty goals  \\\n",
      "5            15.6%                          80             2              1   \n",
      "6            19.2%                          32             1              1   \n",
      "\n",
      "   Penalties not scored  ...  Saves made  Saves-to-shots ratio  Fouls Won  \\\n",
      "5                     0  ...          10                 62.6%         63   \n",
      "6                     1  ...          13                 65.1%         67   \n",
      "\n",
      "  Fouls Conceded  Offsides  Yellow Cards  Red Cards  Subs on  Subs off  \\\n",
      "5             49        12             4          0       15        15   \n",
      "6             48        12             9          1       12        12   \n",
      "\n",
      "   Players Used  \n",
      "5            17  \n",
      "6            20  \n",
      "\n",
      "[2 rows x 35 columns]\n"
     ]
    }
   ],
   "source": [
    "teams_starting_with_G = euro12[euro12['Team'].str.startswith('G')]\n",
    "print(\"\\nTeams starting with 'G':\\n\", teams_starting_with_G)"
   ]
  },
  {
   "cell_type": "markdown",
   "id": "5c0e990e",
   "metadata": {},
   "source": [
    "Step 12. Select the first 7 columns\n"
   ]
  },
  {
   "cell_type": "code",
   "execution_count": 22,
   "id": "d67460fb",
   "metadata": {},
   "outputs": [
    {
     "name": "stdout",
     "output_type": "stream",
     "text": [
      "\n",
      "First 7 Columns:\n",
      "                    Team  Goals  Shots on target  Shots off target  \\\n",
      "0               Croatia      4               13                12   \n",
      "1        Czech Republic      4               13                18   \n",
      "2               Denmark      4               10                10   \n",
      "3               England      5               11                18   \n",
      "4                France      3               22                24   \n",
      "5               Germany     10               32                32   \n",
      "6                Greece      5                8                18   \n",
      "7                 Italy      6               34                45   \n",
      "8           Netherlands      2               12                36   \n",
      "9                Poland      2               15                23   \n",
      "10             Portugal      6               22                42   \n",
      "11  Republic of Ireland      1                7                12   \n",
      "12               Russia      5                9                31   \n",
      "13                Spain     12               42                33   \n",
      "14               Sweden      5               17                19   \n",
      "15              Ukraine      2                7                26   \n",
      "\n",
      "   Shooting Accuracy % Goals-to-shots  Total shots (inc. Blocked)  \n",
      "0              51.9%            16.0%                          32  \n",
      "1              41.9%            12.9%                          39  \n",
      "2              50.0%            20.0%                          27  \n",
      "3              50.0%            17.2%                          40  \n",
      "4              37.9%             6.5%                          65  \n",
      "5              47.8%            15.6%                          80  \n",
      "6              30.7%            19.2%                          32  \n",
      "7              43.0%             7.5%                         110  \n",
      "8              25.0%             4.1%                          60  \n",
      "9              39.4%             5.2%                          48  \n",
      "10             34.3%             9.3%                          82  \n",
      "11             36.8%             5.2%                          28  \n",
      "12             22.5%            12.5%                          59  \n",
      "13             55.9%            16.0%                         100  \n",
      "14             47.2%            13.8%                          39  \n",
      "15             21.2%             6.0%                          38  \n"
     ]
    }
   ],
   "source": [
    "first_seven_columns = euro12.iloc[:, :7]\n",
    "print(\"\\nFirst 7 Columns:\\n\", first_seven_columns)"
   ]
  },
  {
   "cell_type": "markdown",
   "id": "1431ecaf",
   "metadata": {},
   "source": [
    "Step 13. Select all columns except the last 3\n"
   ]
  },
  {
   "cell_type": "code",
   "execution_count": 23,
   "id": "10576fcb",
   "metadata": {},
   "outputs": [
    {
     "name": "stdout",
     "output_type": "stream",
     "text": [
      "\n",
      "All Columns Except Last 3:\n",
      "                    Team  Goals  Shots on target  Shots off target  \\\n",
      "0               Croatia      4               13                12   \n",
      "1        Czech Republic      4               13                18   \n",
      "2               Denmark      4               10                10   \n",
      "3               England      5               11                18   \n",
      "4                France      3               22                24   \n",
      "5               Germany     10               32                32   \n",
      "6                Greece      5                8                18   \n",
      "7                 Italy      6               34                45   \n",
      "8           Netherlands      2               12                36   \n",
      "9                Poland      2               15                23   \n",
      "10             Portugal      6               22                42   \n",
      "11  Republic of Ireland      1                7                12   \n",
      "12               Russia      5                9                31   \n",
      "13                Spain     12               42                33   \n",
      "14               Sweden      5               17                19   \n",
      "15              Ukraine      2                7                26   \n",
      "\n",
      "   Shooting Accuracy % Goals-to-shots  Total shots (inc. Blocked)  \\\n",
      "0              51.9%            16.0%                          32   \n",
      "1              41.9%            12.9%                          39   \n",
      "2              50.0%            20.0%                          27   \n",
      "3              50.0%            17.2%                          40   \n",
      "4              37.9%             6.5%                          65   \n",
      "5              47.8%            15.6%                          80   \n",
      "6              30.7%            19.2%                          32   \n",
      "7              43.0%             7.5%                         110   \n",
      "8              25.0%             4.1%                          60   \n",
      "9              39.4%             5.2%                          48   \n",
      "10             34.3%             9.3%                          82   \n",
      "11             36.8%             5.2%                          28   \n",
      "12             22.5%            12.5%                          59   \n",
      "13             55.9%            16.0%                         100   \n",
      "14             47.2%            13.8%                          39   \n",
      "15             21.2%             6.0%                          38   \n",
      "\n",
      "    Hit Woodwork  Penalty goals  Penalties not scored  ...  Clean Sheets  \\\n",
      "0              0              0                     0  ...             0   \n",
      "1              0              0                     0  ...             1   \n",
      "2              1              0                     0  ...             1   \n",
      "3              0              0                     0  ...             2   \n",
      "4              1              0                     0  ...             1   \n",
      "5              2              1                     0  ...             1   \n",
      "6              1              1                     1  ...             1   \n",
      "7              2              0                     0  ...             2   \n",
      "8              2              0                     0  ...             0   \n",
      "9              0              0                     0  ...             0   \n",
      "10             6              0                     0  ...             2   \n",
      "11             0              0                     0  ...             0   \n",
      "12             2              0                     0  ...             0   \n",
      "13             0              1                     0  ...             5   \n",
      "14             3              0                     0  ...             1   \n",
      "15             0              0                     0  ...             0   \n",
      "\n",
      "    Blocks  Goals conceded Saves made  Saves-to-shots ratio  Fouls Won  \\\n",
      "0       10               3         13                 81.3%         41   \n",
      "1       10               6          9                 60.1%         53   \n",
      "2       10               5         10                 66.7%         25   \n",
      "3       29               3         22                 88.1%         43   \n",
      "4        7               5          6                 54.6%         36   \n",
      "5       11               6         10                 62.6%         63   \n",
      "6       23               7         13                 65.1%         67   \n",
      "7       18               7         20                 74.1%        101   \n",
      "8        9               5         12                 70.6%         35   \n",
      "9        8               3          6                 66.7%         48   \n",
      "10      11               4         10                 71.5%         73   \n",
      "11      23               9         17                 65.4%         43   \n",
      "12       8               3         10                 77.0%         34   \n",
      "13       8               1         15                 93.8%        102   \n",
      "14      12               5          8                 61.6%         35   \n",
      "15       4               4         13                 76.5%         48   \n",
      "\n",
      "    Fouls Conceded  Offsides  Yellow Cards  Red Cards  \n",
      "0               62         2             9          0  \n",
      "1               73         8             7          0  \n",
      "2               38         8             4          0  \n",
      "3               45         6             5          0  \n",
      "4               51         5             6          0  \n",
      "5               49        12             4          0  \n",
      "6               48        12             9          1  \n",
      "7               89        16            16          0  \n",
      "8               30         3             5          0  \n",
      "9               56         3             7          1  \n",
      "10              90        10            12          0  \n",
      "11              51        11             6          1  \n",
      "12              43         4             6          0  \n",
      "13              83        19            11          0  \n",
      "14              51         7             7          0  \n",
      "15              31         4             5          0  \n",
      "\n",
      "[16 rows x 32 columns]\n"
     ]
    }
   ],
   "source": [
    "all_except_last_three = euro12.iloc[:, :-3]\n",
    "print(\"\\nAll Columns Except Last 3:\\n\", all_except_last_three)"
   ]
  },
  {
   "cell_type": "markdown",
   "id": "61e99893",
   "metadata": {},
   "source": [
    "Step 14. Present only the Shooting Accuracy from England, Italy and Russia"
   ]
  },
  {
   "cell_type": "code",
   "execution_count": 24,
   "id": "841c566d",
   "metadata": {},
   "outputs": [
    {
     "name": "stdout",
     "output_type": "stream",
     "text": [
      "\n",
      "Shooting Accuracy for England, Italy, and Russia:\n",
      "        Team Shooting Accuracy\n",
      "3   England             50.0%\n",
      "7     Italy             43.0%\n",
      "12   Russia             22.5%\n"
     ]
    }
   ],
   "source": [
    "shooting_accuracy = euro12[euro12['Team'].isin(['England', 'Italy', 'Russia'])][['Team', 'Shooting Accuracy']]\n",
    "print(\"\\nShooting Accuracy for England, Italy, and Russia:\\n\", shooting_accuracy)"
   ]
  },
  {
   "cell_type": "markdown",
   "id": "120cdde6",
   "metadata": {},
   "source": [
    "Question 3\n"
   ]
  },
  {
   "cell_type": "code",
   "execution_count": 25,
   "id": "0e8c0ee8",
   "metadata": {},
   "outputs": [
    {
     "name": "stdout",
     "output_type": "stream",
     "text": [
      "Does it go only until index 99? True\n",
      "Housing DataFrame:\n",
      "     bedrs  bathrs  price_sqr_meter\n",
      "0       2       1            24807\n",
      "1       4       2            29416\n",
      "2       4       2            24289\n",
      "3       2       2            28138\n",
      "4       4       2            21587\n",
      "..    ...     ...              ...\n",
      "95      1       2            25571\n",
      "96      2       2            18760\n",
      "97      4       1            20994\n",
      "98      3       2            25118\n",
      "99      2       2            21101\n",
      "\n",
      "[100 rows x 3 columns]\n",
      "\n",
      "Bigcolumn DataFrame:\n",
      " 0          2\n",
      "1          4\n",
      "2          4\n",
      "3          2\n",
      "4          4\n",
      "       ...  \n",
      "295    25571\n",
      "296    18760\n",
      "297    20994\n",
      "298    25118\n",
      "299    21101\n",
      "Length: 300, dtype: int32\n"
     ]
    }
   ],
   "source": [
    "# Step 1: Importing the necessary libraries\n",
    "import pandas as pd\n",
    "import numpy as np\n",
    "\n",
    "# Step 2: Create 3 different Series\n",
    "series1 = pd.Series(np.random.randint(1, 5, size=100))\n",
    "series2 = pd.Series(np.random.randint(1, 4, size=100))\n",
    "series3 = pd.Series(np.random.randint(10000, 30001, size=100))\n",
    "\n",
    "# Step 3: Creating DataFrame by joining the Series by column\n",
    "housing_df = pd.concat([series1, series2, series3], axis=1)\n",
    "\n",
    "# Step 4: here we Change the column names\n",
    "housing_df.columns = ['bedrs', 'bathrs', 'price_sqr_meter']\n",
    "\n",
    "# Step 5: Creating one column DataFrame 'bigcolumn'\n",
    "bigcolumn = pd.concat([series1, series2, series3], axis=0)\n",
    "\n",
    "# Step 6: Check if the index goes up to 99\n",
    "print(\"Does it go only until index 99?\", bigcolumn.index.max() == 99)\n",
    "\n",
    "# Step 7: Reindex the DataFrame\n",
    "bigcolumn.reset_index(drop=True, inplace=True)\n",
    "\n",
    "print(\"Housing DataFrame:\\n\", housing_df)\n",
    "print(\"\\nBigcolumn DataFrame:\\n\", bigcolumn)\n"
   ]
  },
  {
   "cell_type": "markdown",
   "id": "ca7093d3",
   "metadata": {},
   "source": [
    "Question 4"
   ]
  },
  {
   "cell_type": "code",
   "execution_count": 34,
   "id": "d30ebf81",
   "metadata": {},
   "outputs": [
    {
     "name": "stdout",
     "output_type": "stream",
     "text": [
      "Requirement already satisfied: numpy in d:\\anaconda\\lib\\site-packages (1.23.5)\n",
      "Note: you may need to restart the kernel to use updated packages.\n"
     ]
    }
   ],
   "source": [
    "pip install numpy"
   ]
  },
  {
   "cell_type": "code",
   "execution_count": 36,
   "id": "8b569a24",
   "metadata": {},
   "outputs": [
    {
     "name": "stdout",
     "output_type": "stream",
     "text": [
      "Missing Values:\n",
      " RPT    6\n",
      "VAL    3\n",
      "ROS    2\n",
      "KIL    5\n",
      "SHA    2\n",
      "BIR    0\n",
      "DUB    3\n",
      "CLA    2\n",
      "MUL    3\n",
      "CLO    1\n",
      "BEL    0\n",
      "MAL    4\n",
      "dtype: int64\n",
      "\n",
      "Total Non-Missing Values: 78857\n",
      "\n",
      "Mean Windspeed of the Entire Dataset: 10.227982360836938\n",
      "\n",
      "Location Statistics:\n",
      "             RPT        VAL        ROS        KIL        SHA        BIR  \\\n",
      "min    0.670000   0.210000   1.500000   0.000000   0.130000   0.000000   \n",
      "max   35.800000  33.370000  33.840000  28.460000  37.540000  26.160000   \n",
      "mean  12.362987  10.644314  11.660526   6.306468  10.455834   7.092254   \n",
      "std    5.618413   5.267356   5.008450   3.605811   4.936125   3.968683   \n",
      "\n",
      "            DUB        CLA        MUL        CLO        BEL        MAL  \n",
      "min    0.000000   0.000000   0.000000   0.040000   0.130000   0.670000  \n",
      "max   30.370000  31.080000  25.880000  28.210000  42.380000  42.540000  \n",
      "mean   9.797343   8.495053   8.493590   8.707332  13.121007  15.599079  \n",
      "std    4.977555   4.499449   4.166872   4.503954   5.835037   6.699794  \n",
      "\n",
      "Day Statistics:\n",
      "               RPT                      VAL                      ROS         \\\n",
      "              min    max   mean std    min    max   mean std    min    max   \n",
      "Yr_Mo_Dy                                                                     \n",
      "1961-01-01  15.04  15.04  15.04 NaN  14.96  14.96  14.96 NaN  13.17  13.17   \n",
      "1961-01-02  14.71  14.71  14.71 NaN    NaN    NaN    NaN NaN  10.83  10.83   \n",
      "1961-01-03  18.50  18.50  18.50 NaN  16.88  16.88  16.88 NaN  12.33  12.33   \n",
      "1961-01-04  10.58  10.58  10.58 NaN   6.63   6.63   6.63 NaN  11.75  11.75   \n",
      "1961-01-05  13.33  13.33  13.33 NaN  13.25  13.25  13.25 NaN  11.42  11.42   \n",
      "...           ...    ...    ...  ..    ...    ...    ...  ..    ...    ...   \n",
      "1978-12-27  17.58  17.58  17.58 NaN  16.96  16.96  16.96 NaN  17.62  17.62   \n",
      "1978-12-28  13.21  13.21  13.21 NaN   5.46   5.46   5.46 NaN  13.46  13.46   \n",
      "1978-12-29  14.00  14.00  14.00 NaN  10.29  10.29  10.29 NaN  14.42  14.42   \n",
      "1978-12-30  18.50  18.50  18.50 NaN  14.04  14.04  14.04 NaN  21.29  21.29   \n",
      "1978-12-31  20.33  20.33  20.33 NaN  17.41  17.41  17.41 NaN  27.29  27.29   \n",
      "\n",
      "            ...    CLO        BEL                      MAL                    \n",
      "            ...   mean std    min    max   mean std    min    max   mean std  \n",
      "Yr_Mo_Dy    ...                                                               \n",
      "1961-01-01  ...  12.58 NaN  18.50  18.50  18.50 NaN  15.04  15.04  15.04 NaN  \n",
      "1961-01-02  ...   9.67 NaN  17.54  17.54  17.54 NaN  13.83  13.83  13.83 NaN  \n",
      "1961-01-03  ...   7.67 NaN  12.75  12.75  12.75 NaN  12.71  12.71  12.71 NaN  \n",
      "1961-01-04  ...   5.88 NaN   5.46   5.46   5.46 NaN  10.88  10.88  10.88 NaN  \n",
      "1961-01-05  ...  10.34 NaN  12.92  12.92  12.92 NaN  11.83  11.83  11.83 NaN  \n",
      "...         ...    ...  ..    ...    ...    ...  ..    ...    ...    ...  ..  \n",
      "1978-12-27  ...  14.00 NaN  17.21  17.21  17.21 NaN  40.08  40.08  40.08 NaN  \n",
      "1978-12-28  ...  18.05 NaN  21.79  21.79  21.79 NaN  41.46  41.46  41.46 NaN  \n",
      "1978-12-29  ...  16.42 NaN  18.88  18.88  18.88 NaN  29.58  29.58  29.58 NaN  \n",
      "1978-12-30  ...  12.12 NaN  14.67  14.67  14.67 NaN  28.79  28.79  28.79 NaN  \n",
      "1978-12-31  ...  11.38 NaN  12.08  12.08  12.08 NaN  22.08  22.08  22.08 NaN  \n",
      "\n",
      "[6574 rows x 48 columns]\n",
      "\n",
      "January Average for Each Year:\n",
      "                 RPT        VAL        ROS        KIL        SHA        BIR  \\\n",
      "Yr_Mo_Dy                                                                     \n",
      "1961      14.841333  11.988333  13.431613   7.736774  11.072759   8.588065   \n",
      "1962      14.783871  13.160323  12.591935   7.538065  11.779677   8.720000   \n",
      "1963      14.868387  11.112903  15.121613   6.635806  11.080645   7.835484   \n",
      "1964      12.661290  11.818387  11.741290   6.953548  11.400645   6.865806   \n",
      "1965      15.741613  15.546774  15.274194   8.258387  13.588065   9.251290   \n",
      "1966      15.834839  13.283226  15.136452   8.659355  12.968065   9.163548   \n",
      "1967      13.736129  11.470968  11.537419   6.928065  10.833548   6.730323   \n",
      "1968      14.733226  12.829032  12.294194   7.849032  12.262581   7.133226   \n",
      "1969      12.824839  12.113871  11.403871   6.708710  10.557097   5.926452   \n",
      "1970      13.152581  11.731935  13.083871   5.810968   9.507742   8.040323   \n",
      "1971      15.098065  13.398387  13.080000   6.364194  11.342258   7.759677   \n",
      "1972      14.383871  11.848387  13.732258   5.925161  10.823226   7.291290   \n",
      "1973      13.177742  12.202903  10.860968   5.454516   9.327419   7.419677   \n",
      "1974      20.990968  17.623548  17.514839  10.549355  15.858387  11.298387   \n",
      "1975      17.100323  15.812903  13.942581   8.081935  13.934194   8.437742   \n",
      "1976      15.626129  14.240323  13.867097   7.789355  13.081935   9.003548   \n",
      "1977      13.404516  10.377742  12.764839   5.884516   9.159677   8.005161   \n",
      "1978      14.291935  11.872258  12.014194   6.463226  11.402903   7.517097   \n",
      "\n",
      "                DUB        CLA        MUL        CLO        BEL        MAL  \n",
      "Yr_Mo_Dy                                                                    \n",
      "1961      11.184839   9.245333   9.085806  10.107419  13.880968  14.703226  \n",
      "1962      14.211935   9.600000   9.670000  11.498710  16.369355  15.661613  \n",
      "1963      12.797419   9.844839   7.841613   9.390000  11.428710  18.822258  \n",
      "1964       9.592903   9.687419   6.947742   9.676774  15.067419  14.145484  \n",
      "1965      13.850968  11.260000   9.899355  11.706129  16.196129  17.888710  \n",
      "1966      12.150000  10.475806   8.750645  10.739677  14.074516  15.554194  \n",
      "1967       9.787419   7.474839   7.627097  10.169032  13.457742  17.124516  \n",
      "1968      12.395806   9.225806   9.415484   9.255161  14.213871  19.095484  \n",
      "1969       9.882903   8.375161   8.378065   9.515484  13.410000  16.957742  \n",
      "1970       9.843226   8.834194   8.407097   7.626452  12.403871  17.192903  \n",
      "1971      10.297419   8.350000   8.979355   8.666774  14.392581  16.360000  \n",
      "1972      11.287097   6.733548   9.109355   8.728387  12.170645  17.598710  \n",
      "1973      10.738710   7.880000   8.651290   7.596774  12.076452  14.684516  \n",
      "1974      14.112258  12.786452  14.691935  15.092903  19.929677  24.573226  \n",
      "1975      13.179677  12.601935  13.000645  11.064839  19.266774  21.713226  \n",
      "1976      15.121290  11.414839  13.493226  11.553871  16.337097  22.896129  \n",
      "1977      10.107419   7.211613   8.280000   9.328387  12.131935  18.830000  \n",
      "1978      12.207097  10.206452   9.549032   9.247419  15.101613  20.715806  \n",
      "\n",
      "Yearly Data:\n",
      "                   RPT        VAL        ROS       KIL        SHA       BIR  \\\n",
      "Yr_Mo_Dy                                                                     \n",
      "1961-12-31  12.299583  10.351796  11.362369  6.958227  10.881763  7.729726   \n",
      "1962-12-31  12.246923  10.110438  11.732712  6.960440  10.657918  7.393068   \n",
      "1963-12-31  12.813452  10.836986  12.541151  7.330055  11.724110  8.434712   \n",
      "1964-12-31  12.363661  10.920164  12.104372  6.787787  11.454481  7.570874   \n",
      "1965-12-31  12.451370  11.075534  11.848767  6.858466  11.024795  7.478110   \n",
      "1966-12-31  13.461973  11.557205  12.020630  7.345726  11.805041  7.793671   \n",
      "1967-12-31  12.737151  10.990986  11.739397  7.143425  11.630740  7.368164   \n",
      "1968-12-31  11.835628  10.468197  11.409754  6.477678  10.760765  6.067322   \n",
      "1969-12-31  11.166356   9.723699  10.902000  5.767973   9.873918  6.189973   \n",
      "1970-12-31  12.600329  10.726932  11.730247  6.217178  10.567370  7.609452   \n",
      "1971-12-31  11.273123   9.095178  11.088329  5.241507   9.440329  6.097151   \n",
      "1972-12-31  12.463962  10.561311  12.058333  5.929699   9.430410  6.358825   \n",
      "1973-12-31  11.828466  10.680493  10.680493  5.547863   9.640877  6.548740   \n",
      "1974-12-31  13.643096  11.811781  12.336356  6.427041  11.110986  6.809781   \n",
      "1975-12-31  12.008575  10.293836  11.564712  5.269096   9.190082  5.668521   \n",
      "1976-12-31  11.737842  10.203115  10.761230  5.109426   8.846339  6.311038   \n",
      "1977-12-31  13.099616  11.144493  12.627836  6.073945  10.003836  8.586438   \n",
      "1978-12-31  12.504356  11.044274  11.380000  6.082356  10.167233  7.650658   \n",
      "\n",
      "                  DUB        CLA       MUL        CLO        BEL        MAL  \n",
      "Yr_Mo_Dy                                                                     \n",
      "1961-12-31   9.733923   8.858788  8.647652   9.835577  13.502795  13.680773  \n",
      "1962-12-31  11.020712   8.793753  8.316822   9.676247  12.930685  14.323956  \n",
      "1963-12-31  11.075699  10.336548  8.903589  10.224438  13.638877  14.999014  \n",
      "1964-12-31  10.259153   9.467350  7.789016  10.207951  13.740546  14.910301  \n",
      "1965-12-31  10.618712   8.879918  7.907425   9.918082  12.964247  15.591644  \n",
      "1966-12-31  10.579808   8.835096  8.514438   9.768959  14.265836  16.307260  \n",
      "1967-12-31  10.652027   9.325616  8.645014   9.547425  14.774548  17.135945  \n",
      "1968-12-31   8.859180   8.255519  7.224945   7.832978  12.808634  15.017486  \n",
      "1969-12-31   8.564493   7.711397  7.924521   7.754384  12.621233  15.762904  \n",
      "1970-12-31   9.609890   8.334630  9.297616   8.289808  13.183644  16.456027  \n",
      "1971-12-31   8.385890   6.757315  7.915370   7.229753  12.208932  15.025233  \n",
      "1972-12-31   9.704508   7.680792  8.357295   7.515273  12.727377  15.028716  \n",
      "1973-12-31   8.482110   7.614274  8.245534   7.812411  12.169699  15.441096  \n",
      "1974-12-31  10.084603   9.896986  9.331753   8.736356  13.252959  16.947671  \n",
      "1975-12-31   8.562603   7.843836  8.797945   7.382822  12.631671  15.307863  \n",
      "1976-12-31   9.149126   7.146202  8.883716   7.883087  12.332377  15.471448  \n",
      "1977-12-31  11.523205   8.378384  9.098192   8.821616  13.459068  16.590849  \n",
      "1978-12-31   9.489342   8.800466  9.089753   8.301699  12.967397  16.771370  \n",
      "\n",
      "Monthly Data:\n",
      "                   RPT        VAL        ROS       KIL        SHA        BIR  \\\n",
      "Yr_Mo_Dy                                                                      \n",
      "1961-01-31  14.841333  11.988333  13.431613  7.736774  11.072759   8.588065   \n",
      "1961-02-28  16.269286  14.975357  14.441481  9.230741  13.852143  10.937500   \n",
      "1961-03-31  10.890000  11.296452  10.752903  7.284000  10.509355   8.866774   \n",
      "1961-04-30  10.722667   9.427667   9.998000  5.830667   8.435000   6.495000   \n",
      "1961-05-31   9.860968   8.850000  10.818065  5.905333   9.490323   6.574839   \n",
      "...               ...        ...        ...       ...        ...        ...   \n",
      "1978-08-31   9.645161   8.259355   9.032258  4.502903   7.368065   5.935161   \n",
      "1978-09-30  10.913667  10.895000  10.635000  5.725000  10.372000   9.278333   \n",
      "1978-10-31   9.897742   8.670968   9.295806  4.721290   8.525161   6.774194   \n",
      "1978-11-30  16.151667  14.802667  13.508000  7.317333  11.475000   8.743000   \n",
      "1978-12-31  16.175484  13.748065  15.635161  7.094839  11.398710   9.241613   \n",
      "\n",
      "                  DUB        CLA        MUL        CLO        BEL        MAL  \n",
      "Yr_Mo_Dy                                                                      \n",
      "1961-01-31  11.184839   9.245333   9.085806  10.107419  13.880968  14.703226  \n",
      "1961-02-28  11.890714  11.846071  11.821429  12.714286  18.583214  15.411786  \n",
      "1961-03-31   9.644194   9.829677  10.294138  11.251935  16.410968  15.720000  \n",
      "1961-04-30   6.925333   7.094667   7.342333   7.237000  11.147333  10.278333  \n",
      "1961-05-31   7.604000   8.177097   8.039355   8.499355  11.900323  12.011613  \n",
      "...               ...        ...        ...        ...        ...        ...  \n",
      "1978-08-31   5.650323   5.417742   7.241290   5.536774  10.466774  12.054194  \n",
      "1978-09-30  10.790333   9.583000  10.069333   8.939000  15.680333  19.391333  \n",
      "1978-10-31   8.115484   7.337742   8.297742   8.243871  13.776774  17.150000  \n",
      "1978-11-30  11.492333   9.657333  10.701333  10.676000  17.404667  20.723000  \n",
      "1978-12-31  12.077419  10.194839  10.616774  11.028710  13.859677  21.371613  \n",
      "\n",
      "[216 rows x 12 columns]\n",
      "\n",
      "Weekly Data:\n",
      "                   RPT        VAL        ROS        KIL        SHA        BIR  \\\n",
      "Yr_Mo_Dy                                                                       \n",
      "1961-01-01  15.040000  14.960000  13.170000   9.290000        NaN   9.870000   \n",
      "1961-01-08  13.541429  11.486667  10.487143   6.417143   9.474286   6.435714   \n",
      "1961-01-15  12.468571   8.967143  11.958571   4.630000   7.351429   5.072857   \n",
      "1961-01-22  13.204286   9.862857  12.982857   6.328571   8.966667   7.417143   \n",
      "1961-01-29  19.880000  16.141429  18.225714  12.720000  17.432857  14.828571   \n",
      "...               ...        ...        ...        ...        ...        ...   \n",
      "1978-12-03  14.934286  11.232857  13.941429   5.565714  10.215714   8.618571   \n",
      "1978-12-10  20.740000  19.190000  17.034286   9.777143  15.287143  12.774286   \n",
      "1978-12-17  16.758571  14.692857  14.987143   6.917143  11.397143   7.272857   \n",
      "1978-12-24  11.155714   8.008571  13.172857   4.004286   7.825714   6.290000   \n",
      "1978-12-31  14.951429  11.801429  16.035714   6.507143   9.660000   8.620000   \n",
      "\n",
      "                  DUB        CLA        MUL        CLO        BEL        MAL  \n",
      "Yr_Mo_Dy                                                                      \n",
      "1961-01-01  13.670000  10.250000  10.830000  12.580000  18.500000  15.040000  \n",
      "1961-01-08  11.061429   6.616667   8.434286   8.497143  12.481429  13.238571  \n",
      "1961-01-15   7.535714   6.820000   5.712857   7.571429  11.125714  11.024286  \n",
      "1961-01-22   9.257143   7.875714   7.145714   8.124286   9.821429  11.434286  \n",
      "1961-01-29  15.528571  15.160000  14.480000  15.640000  20.930000  22.530000  \n",
      "...               ...        ...        ...        ...        ...        ...  \n",
      "1978-12-03   9.642857   7.685714   9.011429   9.547143  11.835714  18.728571  \n",
      "1978-12-10  14.437143  12.488571  13.870000  14.082857  18.517143  23.061429  \n",
      "1978-12-17  10.208571   7.967143   9.168571   8.565714  11.102857  15.562857  \n",
      "1978-12-24   7.798571   8.667143   7.151429   8.072857  11.845714  18.977143  \n",
      "1978-12-31  13.708571  10.477143  10.868571  11.471429  12.947143  26.844286  \n",
      "\n",
      "[940 rows x 12 columns]\n",
      "\n",
      "Weekly Statistics for the First 52 Weeks:\n",
      "             RPT        VAL        ROS        KIL        SHA        BIR  \\\n",
      "min    4.202857   4.255714   6.738571   3.300000   6.112857   2.715714   \n",
      "max   19.880000  16.417143  18.225714  12.720000  17.432857  14.828571   \n",
      "mean  12.316163  10.436978  11.296667   6.998690  10.930691   7.810330   \n",
      "std    3.419077   2.900003   2.789210   2.091987   2.674869   2.426344   \n",
      "\n",
      "            DUB        CLA        MUL        CLO        BEL        MAL  \n",
      "min    3.964286   4.257143   4.501429   6.031429   5.875714   5.737143  \n",
      "max   15.565714  15.160000  14.480000  16.461429  21.832857  23.641429  \n",
      "mean   9.764986   8.908732   8.732106   9.914712  13.658352  13.723933  \n",
      "std    2.850023   2.447832   2.412421   2.595592   3.640914   3.583555  \n"
     ]
    }
   ],
   "source": [
    "# Step 1: Importing the necessary libraries\n",
    "import pandas as pd\n",
    "import numpy as np\n",
    "\n",
    "# Step 2: Import the dataset from the attached file wind.txt\n",
    "file_path = r\"C:\\Users\\Dell\\Downloads\\wind.txt\"\n",
    "data = pd.read_table(file_path, sep='\\s+', parse_dates=[[0, 1, 2]])\n",
    "\n",
    "# Step 3: Replace the first 3 columns by a proper datetime index\n",
    "data.set_index('Yr_Mo_Dy', inplace=True)\n",
    "\n",
    "# Step 4: Fixing the year 2061 issue\n",
    "def fix_year(year):\n",
    "    if year.year > 1989:\n",
    "        return year - pd.DateOffset(years=100)\n",
    "    return year\n",
    "\n",
    "data.index = data.index.map(fix_year)\n",
    "\n",
    "# Step 5: Set the right dates as the index\n",
    "data.index = pd.to_datetime(data.index)\n",
    "\n",
    "# Step 6: Compute how many missing values for each location\n",
    "missing_values = data.isnull().sum()\n",
    "\n",
    "# Step 7: Compute how many non-missing values in total\n",
    "non_missing_values = data.count().sum()\n",
    "\n",
    "# Step 8: Calculate the mean windspeeds of the entire dataset\n",
    "mean_windspeed = data.mean().mean()\n",
    "\n",
    "# Step 9: Calculate statistics for each location\n",
    "loc_stats = data.aggregate(['min', 'max', 'mean', 'std'])\n",
    "\n",
    "# Step 10: Calculate statistics for each day\n",
    "day_stats = data.resample('D').aggregate(['min', 'max', 'mean', 'std'])\n",
    "\n",
    "# Step 11: Find the average windspeed in January for each location\n",
    "january_avg = data.resample('M').mean()\n",
    "january_avg = january_avg[january_avg.index.month == 1]\n",
    "january_avg = january_avg.groupby(january_avg.index.year).mean()\n",
    "\n",
    "\n",
    "# Step 12: Downsample to yearly frequency\n",
    "yearly_data = data.resample('Y').mean()\n",
    "\n",
    "# Step 13: Downsample to monthly frequency\n",
    "monthly_data = data.resample('M').mean()\n",
    "\n",
    "# Step 14: Downsample to weekly frequency\n",
    "weekly_data = data.resample('W').mean()\n",
    "\n",
    "# Step 15: Calculate weekly statistics for the first 52 weeks\n",
    "weekly_stats = weekly_data[:52].aggregate(['min', 'max', 'mean', 'std'])\n",
    "\n",
    "\n",
    "print(\"Missing Values:\\n\", missing_values)\n",
    "print(\"\\nTotal Non-Missing Values:\", non_missing_values)\n",
    "print(\"\\nMean Windspeed of the Entire Dataset:\", mean_windspeed)\n",
    "print(\"\\nLocation Statistics:\\n\", loc_stats)\n",
    "print(\"\\nDay Statistics:\\n\", day_stats)\n",
    "print(\"\\nJanuary Average for Each Year:\\n\", january_avg)\n",
    "print(\"\\nYearly Data:\\n\", yearly_data)\n",
    "print(\"\\nMonthly Data:\\n\", monthly_data)\n",
    "print(\"\\nWeekly Data:\\n\", weekly_data)\n",
    "print(\"\\nWeekly Statistics for the First 52 Weeks:\\n\", weekly_stats)\n"
   ]
  },
  {
   "cell_type": "markdown",
   "id": "760ac064",
   "metadata": {},
   "source": [
    "Question 5\n"
   ]
  },
  {
   "cell_type": "code",
   "execution_count": 26,
   "id": "a53fec15",
   "metadata": {},
   "outputs": [
    {
     "name": "stdout",
     "output_type": "stream",
     "text": [
      "First 10 entries:\n",
      "    order_id  quantity                              item_name  \\\n",
      "0         1         1           Chips and Fresh Tomato Salsa   \n",
      "1         1         1                                   Izze   \n",
      "2         1         1                       Nantucket Nectar   \n",
      "3         1         1  Chips and Tomatillo-Green Chili Salsa   \n",
      "4         2         2                           Chicken Bowl   \n",
      "5         3         1                           Chicken Bowl   \n",
      "6         3         1                          Side of Chips   \n",
      "7         4         1                          Steak Burrito   \n",
      "8         4         1                       Steak Soft Tacos   \n",
      "9         5         1                          Steak Burrito   \n",
      "\n",
      "                                  choice_description item_price  \n",
      "0                                                NaN     $2.39   \n",
      "1                                       [Clementine]     $3.39   \n",
      "2                                            [Apple]     $3.39   \n",
      "3                                                NaN     $2.39   \n",
      "4  [Tomatillo-Red Chili Salsa (Hot), [Black Beans...    $16.98   \n",
      "5  [Fresh Tomato Salsa (Mild), [Rice, Cheese, Sou...    $10.98   \n",
      "6                                                NaN     $1.69   \n",
      "7  [Tomatillo Red Chili Salsa, [Fajita Vegetables...    $11.75   \n",
      "8  [Tomatillo Green Chili Salsa, [Pinto Beans, Ch...     $9.25   \n",
      "9  [Fresh Tomato Salsa, [Rice, Black Beans, Pinto...     $9.25   \n",
      "Columns:\n",
      " ['order_id', 'quantity', 'item_name', 'choice_description', 'item_price']\n",
      "Dataset Indexing:\n",
      " RangeIndex(start=0, stop=4622, step=1)\n",
      "Item Price Type after Conversion: float64\n",
      "\n",
      "Number of Observations (Rows): 4622\n",
      "Number of Columns: 5\n",
      "Most-Ordered Item: Chicken Bowl\n",
      "Number of Items Ordered for Most-Ordered Item: 761\n",
      "Most Ordered Choice Description: [Diet Coke]\n",
      "Total Items Ordered: 4972\n",
      "Revenue for the Period: 39237.02\n",
      "Number of Orders: 1834\n",
      "Average Revenue Amount per Order: 21.39423118865867\n",
      "Number of Different Items Sold: 50\n"
     ]
    }
   ],
   "source": [
    "# Step 1: Importing the necessary libraries\n",
    "import pandas as pd\n",
    "\n",
    "# Step 2: Import the dataset\n",
    "url = \"https://raw.githubusercontent.com/justmarkham/DAT8/master/data/chipotle.tsv\"\n",
    "chipo = pd.read_csv(url, sep='\\t')\n",
    "\n",
    "# Step 3: The dataset is now assigned to the variable 'chipo'\n",
    "\n",
    "# Step 4: showing the first 10 entries\n",
    "print(\"First 10 entries:\\n\", chipo.head(10))\n",
    "\n",
    "# Step 5: Number of observations (rows) in the dataset\n",
    "num_observations = chipo.shape[0]\n",
    "\n",
    "# Step 6: Number of columns in the dataset\n",
    "num_columns = chipo.shape[1]\n",
    "\n",
    "# Step 7: here we are Printing the name of all columns\n",
    "print(\"Columns:\\n\", chipo.columns.tolist())\n",
    "\n",
    "# Step 8: Dataset indexing\n",
    "print(\"Dataset Indexing:\\n\", chipo.index)\n",
    "\n",
    "# Step 9: Most-ordered item\n",
    "most_ordered_item = chipo['item_name'].value_counts().idxmax()\n",
    "\n",
    "# Step 10: Number of items ordered for the most-ordered item\n",
    "most_ordered_item_quantity = chipo[chipo['item_name'] == most_ordered_item]['quantity'].sum()\n",
    "\n",
    "# Step 11: Most ordered item in the choice_description column\n",
    "most_ordered_choice_description = chipo['choice_description'].value_counts().idxmax()\n",
    "\n",
    "# Step 12: Total number of items ordered\n",
    "total_items_ordered = chipo['quantity'].sum()\n",
    "\n",
    "# Step 13: Convert item price to float and check its type\n",
    "chipo['item_price'] = chipo['item_price'].apply(lambda x: float(x[1:]))\n",
    "print(\"Item Price Type after Conversion:\", chipo['item_price'].dtype)\n",
    "\n",
    "# Step 14: Revenue for the period\n",
    "revenue = (chipo['quantity'] * chipo['item_price']).sum()\n",
    "\n",
    "# Step 15: Number of orders made\n",
    "num_orders = chipo['order_id'].nunique()\n",
    "\n",
    "# Step 16: Average revenue amount per order\n",
    "average_revenue_per_order = revenue / num_orders\n",
    "\n",
    "# Step 17: Number of different items sold\n",
    "num_different_items = chipo['item_name'].nunique()\n",
    "\n",
    "\n",
    "print(\"\\nNumber of Observations (Rows):\", num_observations)\n",
    "print(\"Number of Columns:\", num_columns)\n",
    "print(\"Most-Ordered Item:\", most_ordered_item)\n",
    "print(\"Number of Items Ordered for Most-Ordered Item:\", most_ordered_item_quantity)\n",
    "print(\"Most Ordered Choice Description:\", most_ordered_choice_description)\n",
    "print(\"Total Items Ordered:\", total_items_ordered)\n",
    "print(\"Revenue for the Period:\", revenue)\n",
    "print(\"Number of Orders:\", num_orders)\n",
    "print(\"Average Revenue Amount per Order:\", average_revenue_per_order)\n",
    "print(\"Number of Different Items Sold:\", num_different_items)\n"
   ]
  },
  {
   "cell_type": "markdown",
   "id": "98035e9b",
   "metadata": {},
   "source": [
    "Question 6\n",
    "Create a line plot showing the number of marriages and divorces per capita in the\n",
    "U.S. between 1867 and 2014. Label both lines and show the legend. \n",
    "Don't forget to label your axes!"
   ]
  },
  {
   "cell_type": "code",
   "execution_count": 28,
   "id": "7a005242",
   "metadata": {},
   "outputs": [
    {
     "data": {
      "image/png": "[encoded data removed]",
      "text/plain": [
       "<Figure size 1000x600 with 1 Axes>"
      ]
     },
     "metadata": {},
     "output_type": "display_data"
    }
   ],
   "source": [
    "# Step 1: Importing the necessary libraries\n",
    "import pandas as pd\n",
    "import matplotlib.pyplot as plt\n",
    "\n",
    "# Step 2: Import the dataset\n",
    "file_path = r\"C:\\Users\\Dell\\Downloads\\us-marriages-divorces-1867-2014.csv\"\n",
    "data = pd.read_csv(file_path)\n",
    "\n",
    "# Step 3: Create the line plot\n",
    "plt.figure(figsize=(10, 6))\n",
    "\n",
    "plt.plot(data['Year'], data['Marriages_per_1000'], label='Marriages per 1000')\n",
    "plt.plot(data['Year'], data['Divorces_per_1000'], label='Divorces per 1000')\n",
    "\n",
    "plt.title(\"Number of Marriages and Divorces per Capita in the U.S. (1867-2014)\")\n",
    "plt.xlabel(\"Year\")\n",
    "plt.ylabel(\"Rate per 1000\")\n",
    "plt.legend()\n",
    "plt.grid(True)\n",
    "\n",
    "plt.show()\n"
   ]
  },
  {
   "cell_type": "markdown",
   "id": "c3f5e4da",
   "metadata": {},
   "source": [
    "Question 7\n",
    "Create a vertical bar chart comparing the number of marriages and divorces per \n",
    "capita in the U.S. between 1900, 1950, and 2000.\n",
    "Don't forget to label your axes!\n"
   ]
  },
  {
   "cell_type": "code",
   "execution_count": 29,
   "id": "abd2598a",
   "metadata": {},
   "outputs": [
    {
     "data": {
      "image/png": "[encoded data removed]",
      "text/plain": [
       "<Figure size 1000x600 with 1 Axes>"
      ]
     },
     "metadata": {},
     "output_type": "display_data"
    }
   ],
   "source": [
    "# Step 1: Importing the necessary libraries\n",
    "import pandas as pd\n",
    "import matplotlib.pyplot as plt\n",
    "\n",
    "# Step 2: Import the dataset\n",
    "file_path = r\"C:\\Users\\Dell\\Downloads\\us-marriages-divorces-1867-2014.csv\"\n",
    "data = pd.read_csv(file_path)\n",
    "\n",
    "# Step 3: Filter data for the years 1900, 1950, and 2000\n",
    "years = [1900, 1950, 2000]\n",
    "filtered_data = data[data['Year'].isin(years)]\n",
    "\n",
    "# Step 4: Create the vertical bar chart\n",
    "plt.figure(figsize=(10, 6))\n",
    "\n",
    "plt.bar(filtered_data['Year'] - 2, filtered_data['Marriages_per_1000'], width=4, label='Marriages per 1000')\n",
    "plt.bar(filtered_data['Year'] + 2, filtered_data['Divorces_per_1000'], width=4, label='Divorces per 1000')\n",
    "\n",
    "plt.title(\"Comparison of Marriages and Divorces per Capita in the U.S. (1900, 1950, 2000)\")\n",
    "plt.xlabel(\"Year\")\n",
    "plt.ylabel(\"Rate per 1000\")\n",
    "plt.xticks(filtered_data['Year'], years)\n",
    "plt.legend()\n",
    "plt.grid(axis='y')\n",
    "\n",
    "plt.show()\n"
   ]
  },
  {
   "cell_type": "markdown",
   "id": "1c8bf73b",
   "metadata": {},
   "source": [
    "Question 8\n",
    "Create a horizontal bar chart that compares the deadliest actors in Hollywood. Sort \n",
    "the actors by their kill count and label each bar with the corresponding actor's name. \n",
    "Don't forget to label your axes!"
   ]
  },
  {
   "cell_type": "code",
   "execution_count": 30,
   "id": "e4123efd",
   "metadata": {},
   "outputs": [
    {
     "data": {
      "image/png": "[encoded data removed]",
      "text/plain": [
       "<Figure size 1000x600 with 1 Axes>"
      ]
     },
     "metadata": {},
     "output_type": "display_data"
    }
   ],
   "source": [
    "# Step 1: Importing the necessary libraries\n",
    "import pandas as pd\n",
    "import matplotlib.pyplot as plt\n",
    "\n",
    "# Step 2: Import the dataset\n",
    "file_path = r\"C:\\Users\\Dell\\Downloads\\actor_kill_counts.csv\"\n",
    "data = pd.read_csv(file_path)\n",
    "\n",
    "# Step 3: Sort the actors by their kill count\n",
    "sorted_data = data.sort_values(by='Count', ascending=False)\n",
    "\n",
    "# Step 4: Create the horizontal bar chart\n",
    "plt.figure(figsize=(10, 6))\n",
    "\n",
    "plt.barh(sorted_data['Actor'], sorted_data['Count'])\n",
    "\n",
    "plt.title(\"Deadliest Actors in Hollywood\")\n",
    "plt.xlabel(\"Kill Count\")\n",
    "plt.ylabel(\"Actor\")\n",
    "plt.grid(axis='x')\n",
    "\n",
    "# here we Add the labels to the bars\n",
    "for index, value in enumerate(sorted_data['Count']):\n",
    "    plt.text(value + 1, index, str(value))\n",
    "\n",
    "plt.show()\n"
   ]
  },
  {
   "cell_type": "markdown",
   "id": "8b18bfae",
   "metadata": {},
   "source": [
    "Question 9\n",
    "Create a pie chart showing the fraction of all Roman Emperors that were \n",
    "assassinated.\n",
    "Make sure that the pie chart is an even circle, labels the categories, and shows the \n",
    "percentage breakdown of the categories."
   ]
  },
  {
   "cell_type": "code",
   "execution_count": 31,
   "id": "611472b9",
   "metadata": {},
   "outputs": [
    {
     "data": {
      "image/png": "[encoded data removed]",
      "text/plain": [
       "<Figure size 800x800 with 1 Axes>"
      ]
     },
     "metadata": {},
     "output_type": "display_data"
    }
   ],
   "source": [
    "# Step 1: Importing the necessary libraries\n",
    "import pandas as pd\n",
    "import matplotlib.pyplot as plt\n",
    "\n",
    "# Step 2: Import the dataset\n",
    "file_path = r\"C:\\Users\\Dell\\Downloads\\roman-emperor-reigns.csv\"\n",
    "data = pd.read_csv(file_path)\n",
    "\n",
    "# Step 3: Calculate the fraction of emperors that were assassinated\n",
    "total_emperors = len(data)\n",
    "assassinated_emperors = data[data['Cause_of_Death'] == 'Assassinated']\n",
    "assassinated_count = len(assassinated_emperors)\n",
    "fraction_assassinated = assassinated_count / total_emperors\n",
    "\n",
    "# Step 4: Create the pie chart\n",
    "plt.figure(figsize=(8, 8))\n",
    "\n",
    "plt.pie([fraction_assassinated, 1 - fraction_assassinated],\n",
    "        labels=['Assassinated', 'Other'],\n",
    "        autopct='%1.1f%%',\n",
    "        startangle=140)\n",
    "\n",
    "plt.title(\"Fraction of Roman Emperors Assassinated\")\n",
    "plt.axis('equal')  # Equal aspect ratio ensures that the pie is drawn as a circle\n",
    "\n",
    "plt.show()\n"
   ]
  },
  {
   "cell_type": "markdown",
   "id": "ee8f11fd",
   "metadata": {},
   "source": [
    "Question 10\n",
    "Create a scatter plot showing the relationship between the total revenue earned by \n",
    "arcades and the number of Computer Science PhDs awarded in the U.S. between \n",
    "2000 and 2009.\n",
    "Don't forget to label your axes! \n",
    "Color each dot according to its year."
   ]
  },
  {
   "cell_type": "code",
   "execution_count": 32,
   "id": "7052b633",
   "metadata": {},
   "outputs": [
    {
     "data": {
      "image/png": "[encoded data removed]",
      "text/plain": [
       "<Figure size 1000x600 with 1 Axes>"
      ]
     },
     "metadata": {},
     "output_type": "display_data"
    }
   ],
   "source": [
    "# Step 1: Importing the necessary libraries\n",
    "import pandas as pd\n",
    "import matplotlib.pyplot as plt\n",
    "\n",
    "# Step 2: Import the dataset\n",
    "file_path = r\"C:\\Users\\Dell\\Downloads\\arcade-revenue-vs-cs-doctorates.csv\"\n",
    "data = pd.read_csv(file_path)\n",
    "\n",
    "# Step 3: Create the scatter plot\n",
    "plt.figure(figsize=(10, 6))\n",
    "\n",
    "for year in data['Year'].unique():\n",
    "    year_data = data[data['Year'] == year]\n",
    "    plt.scatter(year_data['Total Arcade Revenue (billions)'], year_data['Computer Science Doctorates Awarded (US)'], label=year)\n",
    "\n",
    "plt.title(\"Relationship Between Arcade Revenue and Computer Science PhDs (2000-2009)\")\n",
    "plt.xlabel(\"Total Arcade Revenue (billions)\")\n",
    "plt.ylabel(\"Computer Science Doctorates Awarded (US)\")\n",
    "plt.legend()\n",
    "plt.grid(True)\n",
    "\n",
    "plt.show()\n"
   ]
  },
  {
   "cell_type": "code",
   "execution_count": null,
   "id": "1b093aa0",
   "metadata": {},
   "outputs": [],
   "source": []
  }
 ],
 "metadata": {
  "kernelspec": {
   "display_name": "Python 3 (ipykernel)",
   "language": "python",
   "name": "python3"
  },
  "language_info": {
   "codemirror_mode": {
    "name": "ipython",
    "version": 3
   },
   "file_extension": ".py",
   "mimetype": "text/x-python",
   "name": "python",
   "nbconvert_exporter": "python",
   "pygments_lexer": "ipython3",
   "version": "3.10.9"
  }
 },
 "nbformat": 4,
 "nbformat_minor": 5
}
