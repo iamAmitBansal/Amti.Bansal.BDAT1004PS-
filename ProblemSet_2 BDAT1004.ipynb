{
 "cells": [
  {
   "cell_type": "markdown",
   "id": "a45ab48e",
   "metadata": {},
   "source": [
    "Question 1\n",
    "Consider the following Python module:\n",
    "a = 0 \n",
    "def b():\n",
    "global a\n",
    "a = c(a)\n",
    "def c(a):\n",
    "return a + 2\n",
    "After importing the module into the interpreter, you execute:\n",
    ">>> b()\n",
    ">>> b()\n",
    ">>> b()\n",
    ">>> a\n",
    "?\n",
    "What value is displayed when the last expression (a) is evaluated? Explain youranswer by indicating what happens in every executed statement.\n"
   ]
  },
  {
   "cell_type": "code",
   "execution_count": 1,
   "id": "a4f9301a",
   "metadata": {},
   "outputs": [
    {
     "name": "stdout",
     "output_type": "stream",
     "text": [
      "6\n"
     ]
    }
   ],
   "source": [
    "a = 0\n",
    "\n",
    "def b():\n",
    "    global a\n",
    "    a = c(a)\n",
    "\n",
    "def c(a):\n",
    "    return a + 2\n",
    "\n",
    "b()\n",
    "b()\n",
    "b()\n",
    "\n",
    "print(a)"
   ]
  },
  {
   "cell_type": "markdown",
   "id": "6ada9643",
   "metadata": {},
   "source": [
    "Question 2.\n",
    "Function fileLength(), given to you, takes the name of a file as input and returns \n",
    "the length of the file:\n",
    ">>> fileLength('midterm.py') \n",
    "284\n",
    ">>> fileLength('idterm.py') \n",
    "Traceback (most recent call last):\n",
    "File \"<pyshell#34>\", line 1, in <module> \n",
    "fileLength('idterm.py')\n",
    "File \"/Users/me/midterm.py\", line 3, in fileLength \n",
    "infile = open(filename)\n",
    "FileNotFoundError: [Errno 2] No such file or directory: \n",
    "'idterm.py'\n",
    "As shown above, if the file cannot be found by the interpreter or if it cannot be read \n",
    "as a text file, an exception will be raised. Modify function fileLength() so that a \n",
    "friendly message is printed instead:\n",
    ">>> fileLength('midterm.py') \n",
    "358\n",
    ">>> fileLength('idterm.py') \n",
    "File idterm.py not found."
   ]
  },
  {
   "cell_type": "code",
   "execution_count": 10,
   "id": "3743c4ba",
   "metadata": {},
   "outputs": [
    {
     "name": "stdout",
     "output_type": "stream",
     "text": [
      "123\n"
     ]
    }
   ],
   "source": [
    "def fileLength(filename):\n",
    "    try:\n",
    "        infile = open(filename, 'r')\n",
    "        contents = infile.read()\n",
    "        length = len(contents)\n",
    "        infile.close()\n",
    "        return length\n",
    "    except FileNotFoundError:\n",
    "        print(f\"File {filename} not found.\")\n",
    "\n",
    " #Test the function using the specified file path\n",
    "print(fileLength(r\"C:\\Users\\Dell\\OneDrive\\Desktop\\Problem set 2\\Filelength.txt\"))\n"
   ]
  },
  {
   "cell_type": "markdown",
   "id": "4432e1de",
   "metadata": {},
   "source": [
    "Question 3.\n",
    "Write a class named Marsupial that can be used as shown below:\n",
    ">>> m = Marsupial()\n",
    ">>> m.put_in_pouch('doll')\n",
    ">>> m.put_in_pouch('firetruck')\n",
    ">>> m.put_in_pouch('kitten')\n",
    ">>> m.pouch_contents() \n",
    "['doll', 'firetruck', 'kitten']\n",
    "Now write a class named Kangaroo as a subclass of Marsupial that inherits all the \n",
    "attributes of Marsupial and also:\n",
    "a. extends the Marsupial __init__ constructor to take, as input, the\n",
    "coordinates x and y of the Kangaroo object,\n",
    "b. supports method jump that takes number values dx and dy as input and \n",
    "movesthe kangaroo by dx units along the x-axis and by dy units along the y\u0002axis, and\n",
    "c. overloads the __str__ operator so it behaves as shown below.\n",
    ">>> k = Kangaroo(0,0)\n",
    ">>> print(k)\n",
    "I am a Kangaroo located at coordinates (0,0)\n",
    ">>> k.put_in_pouch('doll')\n",
    ">>> k.put_in_pouch('firetruck')\n",
    ">>> k.put_in_pouch('kitten')\n",
    ">>> k.pouch_contents() \n",
    "['doll', 'firetruck', 'kitten']\n",
    ">>> k.jump(1,0)\n",
    ">>> k.jump(1,0)\n",
    ">>> k.jump(1,0)\n",
    ">>> print(k)\n",
    "I am a Kangaroo located at coordinates (3,0)"
   ]
  },
  {
   "cell_type": "code",
   "execution_count": 11,
   "id": "f362c17e",
   "metadata": {},
   "outputs": [
    {
     "name": "stdout",
     "output_type": "stream",
     "text": [
      "['doll', 'firetruck', 'kitten']\n",
      "I am a Kangaroo located at coordinates (0, 0)\n",
      "['doll', 'firetruck', 'kitten']\n",
      "I am a Kangaroo located at coordinates (3, 0)\n"
     ]
    }
   ],
   "source": [
    "class Marsupial:\n",
    "    def __init__(self):\n",
    "        self.pouch = []\n",
    "        \n",
    "    def put_in_pouch(self, item):\n",
    "        self.pouch.append(item)\n",
    "        \n",
    "    def pouch_contents(self):\n",
    "        return self.pouch\n",
    "\n",
    "\n",
    "class Kangaroo(Marsupial):\n",
    "    def __init__(self, x, y):\n",
    "        super().__init__()\n",
    "        self.coordinates = (x, y)\n",
    "        \n",
    "    def jump(self, dx, dy):\n",
    "        x, y = self.coordinates\n",
    "        self.coordinates = (x + dx, y + dy)\n",
    "        \n",
    "    def __str__(self):\n",
    "        return f\"I am a Kangaroo located at coordinates {self.coordinates}\"\n",
    "\n",
    "\n",
    "# Creating an instance of Marsupial\n",
    "m = Marsupial()\n",
    "m.put_in_pouch('doll')\n",
    "m.put_in_pouch('firetruck')\n",
    "m.put_in_pouch('kitten')\n",
    "print(m.pouch_contents())\n",
    "\n",
    "# Creating an instance of Kangaroo\n",
    "k = Kangaroo(0, 0)\n",
    "print(k)\n",
    "k.put_in_pouch('doll')\n",
    "k.put_in_pouch('firetruck')\n",
    "k.put_in_pouch('kitten')\n",
    "print(k.pouch_contents())\n",
    "k.jump(1, 0)\n",
    "k.jump(1, 0)\n",
    "k.jump(1, 0)\n",
    "print(k)\n"
   ]
  },
  {
   "cell_type": "markdown",
   "id": "de619372",
   "metadata": {},
   "source": [
    "Question 4.\n",
    "Write function collatz() that takes a positive integer x as input and prints the \n",
    "Collatz sequence starting at x. A Collatz sequence is obtained by repeatedly applying \n",
    "this rule to the previous number x in the sequence:\n",
    "x = {\n",
    "𝑥/2 𝑖𝑓 𝑥 𝑖𝑠 𝑒𝑣𝑒𝑛3𝑥\n",
    "+1 𝑖𝑓 𝑥 𝑖𝑠 𝑜𝑑𝑑\n",
    "Your function should stop when the sequence gets to number 1. Your \n",
    "implementation must be recursive, without any loops.\n",
    ">>> collatz(1) \n",
    "1\n",
    ">>> collatz(10) \n",
    "10\n",
    "5\n",
    "16\n",
    "8\n",
    "4\n",
    "2\n",
    "1\n"
   ]
  },
  {
   "cell_type": "code",
   "execution_count": 15,
   "id": "36557c64",
   "metadata": {},
   "outputs": [
    {
     "name": "stdout",
     "output_type": "stream",
     "text": [
      "1\n",
      "\n",
      "10\n",
      "5\n",
      "16\n",
      "8\n",
      "4\n",
      "2\n",
      "1\n"
     ]
    }
   ],
   "source": [
    "def collatz(x):\n",
    "    print(x)\n",
    "    if x == 1:\n",
    "        return\n",
    "    elif x % 2 == 0:\n",
    "        collatz(x // 2)\n",
    "    else:\n",
    "        collatz(3 * x + 1)\n",
    "\n",
    "# Test cases\n",
    "collatz(1)\n",
    "print()\n",
    "collatz(10)\n"
   ]
  },
  {
   "cell_type": "markdown",
   "id": "c39b335a",
   "metadata": {},
   "source": [
    "Question 5.\n",
    "Write a recursive method binary() that takes a non-negative \n",
    "integer n and prints the binary representation of integer n.\n",
    ">>> binary(0)\n",
    "0\n",
    ">>> binary(1)\n",
    "1\n",
    ">>> binary(3) \n",
    "11\n",
    ">>> binary(9) \n",
    "1001\n"
   ]
  },
  {
   "cell_type": "code",
   "execution_count": 16,
   "id": "d99b075b",
   "metadata": {},
   "outputs": [
    {
     "name": "stdout",
     "output_type": "stream",
     "text": [
      "\n",
      "1\n",
      "11\n",
      "1001\n"
     ]
    }
   ],
   "source": [
    "def binary(n):\n",
    "    if n == 0:\n",
    "        return\n",
    "    binary(n // 2)\n",
    "    print(n % 2, end='')\n",
    "\n",
    "# Test cases\n",
    "binary(0)\n",
    "print()\n",
    "binary(1)\n",
    "print()\n",
    "binary(3)\n",
    "print()\n",
    "binary(9)\n",
    "print()\n"
   ]
  },
  {
   "cell_type": "markdown",
   "id": "f680f7e8",
   "metadata": {},
   "source": [
    "Question 6.\n",
    "Implement a class named HeadingParser that can be used to parse an HTML \n",
    "document, and retrieve and print all the headings in the document. You should \n",
    "implement your class as a subclass of HTMLParser, defined in Standard Library \n",
    "module html.parser. When fed a string containing HTML code, your class should \n",
    "print the headings, one per line and in the order in which they appear in the \n",
    "document.Each heading should be indented asfollows: an h1 heading should have indentation 0, and h2 heading should have indentation 1, etc. Test your \n",
    "implementation using w3c.html.\n",
    ">>> infile = open('w3c.html')\n",
    ">>> content = infile.read()\n",
    ">>> infile.close()\n",
    ">>> hp = HeadingParser()\n",
    ">>> hp.feed(content) \n",
    "W3C Mission \n",
    "Principles"
   ]
  },
  {
   "cell_type": "code",
   "execution_count": 32,
   "id": "c560433b",
   "metadata": {},
   "outputs": [
    {
     "name": "stdout",
     "output_type": "stream",
     "text": [
      "Change_me\n",
      "W3C Mission\n",
      " Principles\n"
     ]
    }
   ],
   "source": [
    "from html.parser import HTMLParser\n",
    "\n",
    "class HeadingParser(HTMLParser):\n",
    "    def __init__(self):\n",
    "        super().__init__()\n",
    "        self.headings = []\n",
    "        self.indentation_level = 0\n",
    "\n",
    "    def handle_starttag(self, tag, attrs):\n",
    "        if tag == 'h1':\n",
    "            self.indentation_level = 0\n",
    "        elif tag == 'h2':\n",
    "            self.indentation_level = 1\n",
    "        # Add more elif conditions for other heading levels (h3, h4, etc.) if needed\n",
    "\n",
    "    def handle_data(self, data):\n",
    "        if data.strip() and self.indentation_level >= 0:\n",
    "            indentation = ' ' * self.indentation_level\n",
    "            self.headings.append(indentation + data.strip())\n",
    "\n",
    "    def print_headings(self):\n",
    "        for heading in self.headings:\n",
    "            print(heading)\n",
    "\n",
    "# implementation using w3c.txt\n",
    "try:\n",
    "    with open(r\"C:\\Users\\Dell\\OneDrive\\Desktop\\Problem set 2\\w3c.txt\", 'r') as infile:\n",
    "        content = infile.read()\n",
    "except FileNotFoundError:\n",
    "    print(\"Error: File 'w3c.txt' not found.\")\n",
    "else:\n",
    "    hp = HeadingParser()\n",
    "    hp.feed(content)\n",
    "    \n",
    "hp.print_headings()\n"
   ]
  },
  {
   "cell_type": "markdown",
   "id": "8f94f885",
   "metadata": {},
   "source": [
    "Question 7.\n",
    "Implement recursive function webdir() that takes as input: a URL (as a string) and \n",
    "non-negative integers depth and indent. Your function should visit every web \n",
    "page reachable from the starting URL web page in depth clicks or less, and print \n",
    "each web page's URL. As shown below, indentation, specified by indent, should \n",
    "be used to indicate the depth of a URL.\n",
    ">>>\n",
    "webdir('http://reed.cs.depaul.edu/lperkovic/csc242/test1.html'\n",
    ", 2, 0)\n",
    "http://reed.cs.depaul.edu/lperkovic/csc242/test1.html\n",
    "http://reed.cs.depaul.edu/lperkovic/csc242/test2.html\n",
    "http://reed.cs.depaul.edu/lperkovic/csc242/test4.html\n",
    "http://reed.cs.depaul.edu/lperkovic/csc242/test3.html\n",
    "http://reed.cs.depaul.edu/lperkovic/csc242/test4.html"
   ]
  },
  {
   "cell_type": "code",
   "execution_count": 33,
   "id": "dffd2355",
   "metadata": {},
   "outputs": [
    {
     "name": "stdout",
     "output_type": "stream",
     "text": [
      "http://reed.cs.depaul.edu/lperkovic/csc242/test1.html\n"
     ]
    }
   ],
   "source": [
    "import requests\n",
    "\n",
    "def webdir(url, depth, indent):\n",
    "    if depth < 0:\n",
    "        return\n",
    "\n",
    "    print(' ' * indent + url)\n",
    "    \n",
    "    try:\n",
    "        response = requests.get(url)\n",
    "        if response.status_code == 200:\n",
    "            content = response.text\n",
    "            links = extract_links(content)\n",
    "            \n",
    "            for link in links:\n",
    "                webdir(link, depth - 1, indent + 4)\n",
    "    except requests.exceptions.RequestException as e:\n",
    "        print(' ' * indent + f\"Error accessing URL: {url}\")\n",
    "        print(' ' * indent + str(e))\n",
    "\n",
    "def extract_links(html):\n",
    "    # Simple link extraction implementation\n",
    "    \n",
    "    links = []\n",
    "    start = html.find('<a href=\"')\n",
    "    while start != -1:\n",
    "        start += 9\n",
    "        end = html.find('\"', start)\n",
    "        link = html[start:end]\n",
    "        links.append(link)\n",
    "        start = html.find('<a href=\"', end)\n",
    "    \n",
    "    return links\n",
    "\n",
    "# Testing the webdir function\n",
    "webdir('http://reed.cs.depaul.edu/lperkovic/csc242/test1.html', 2, 0)\n"
   ]
  },
  {
   "cell_type": "markdown",
   "id": "a29848c3",
   "metadata": {},
   "source": [
    "Question 8.\n",
    "Write SQL queries on the below database table that return:\n",
    "a) All the temperature data.\n",
    "b) All the cities, but without repetition.\n",
    "c) All the records for India.\n",
    "d) All the Fall records.\n",
    "e) The city, country, and season for which the average rainfall is between 200 \n",
    "and 400 millimeters.\n",
    "f) The city and country for which the average Fall temperature is above 20 \n",
    "degrees, in increasing temperature order.\n",
    "g) The total annual rainfall for Cairo.\n",
    "h) The total rainfall for each season.\n"
   ]
  },
  {
   "cell_type": "code",
   "execution_count": 41,
   "id": "c2379486",
   "metadata": {},
   "outputs": [
    {
     "name": "stdout",
     "output_type": "stream",
     "text": [
      "Query 1:\n",
      "[(24.8,), (28.4,), (27.9,), (27.6,), (4.2,), (8.3,), (15.7,), (10.4,), (13.6,), (20.7,), (27.7,), (22.2,)]\n",
      "\n",
      "Query 2:\n",
      "[('Mumbai',), ('London',), ('Cairo',)]\n",
      "\n",
      "Query 3:\n",
      "[('Mumbai', 'India', 'Winter', 24.8, 5.9), ('Mumbai', 'India', 'Spring', 28.4, 16.2), ('Mumbai', 'India', 'Summer', 27.9, 1549.4), ('Mumbai', 'India', 'Fall', 27.6, 346.0)]\n",
      "\n",
      "Query 4:\n",
      "[('Mumbai', 'India', 'Fall', 27.6, 346.0), ('London', 'United Kingdom', 'Fall', 10.4, 218.5), ('Cairo', 'Egypt', 'Fall', 22.2, 4.5)]\n",
      "\n",
      "Query 5:\n",
      "[('Mumbai', 'India', 'Fall'), ('London', 'United Kingdom', 'Winter'), ('London', 'United Kingdom', 'Fall')]\n",
      "\n",
      "Query 6:\n",
      "[('Cairo', 'Egypt'), ('Mumbai', 'India')]\n",
      "\n",
      "Query 7:\n",
      "[(27.6,)]\n",
      "\n",
      "Query 8:\n",
      "[('Fall', 569.0), ('Spring', 192.29999999999998), ('Summer', 1706.5), ('Winter', 230.1)]\n",
      "\n"
     ]
    }
   ],
   "source": [
    "import sqlite3\n",
    "\n",
    "# genrating a database connection\n",
    "conn = sqlite3.connect(\":memory:\")\n",
    "\n",
    "# Creating the WeatherData table and inserting the data\n",
    "conn.execute(\"\"\"\n",
    "    CREATE TABLE WeatherData (\n",
    "        City TEXT,\n",
    "        Country TEXT,\n",
    "        Season TEXT,\n",
    "        Temperature REAL,\n",
    "        Rainfall REAL\n",
    "    )\n",
    "\"\"\")\n",
    "data = [\n",
    "    (\"Mumbai\", \"India\", \"Winter\", 24.8, 5.9),\n",
    "    (\"Mumbai\", \"India\", \"Spring\", 28.4, 16.2),\n",
    "    (\"Mumbai\", \"India\", \"Summer\", 27.9, 1549.4),\n",
    "    (\"Mumbai\", \"India\", \"Fall\", 27.6, 346.0),\n",
    "    (\"London\", \"United Kingdom\", \"Winter\", 4.2, 207.7),\n",
    "    (\"London\", \"United Kingdom\", \"Spring\", 8.3, 169.6),\n",
    "    (\"London\", \"United Kingdom\", \"Summer\", 15.7, 157.0),\n",
    "    (\"London\", \"United Kingdom\", \"Fall\", 10.4, 218.5),\n",
    "    (\"Cairo\", \"Egypt\", \"Winter\", 13.6, 16.5),\n",
    "    (\"Cairo\", \"Egypt\", \"Spring\", 20.7, 6.5),\n",
    "    (\"Cairo\", \"Egypt\", \"Summer\", 27.7, 0.1),\n",
    "    (\"Cairo\", \"Egypt\", \"Fall\", 22.2, 4.5)\n",
    "]\n",
    "conn.executemany(\"INSERT INTO WeatherData VALUES (?, ?, ?, ?, ?)\", data)\n",
    "conn.commit()\n",
    "\n",
    "# SQL queries\n",
    "queries = [\n",
    "    \"SELECT Temperature FROM WeatherData;\",  # All the temperature data\n",
    "    \"SELECT DISTINCT City FROM WeatherData;\",  # All the cities, but without repetition\n",
    "    \"SELECT * FROM WeatherData WHERE Country = 'India';\",  # All the records for India\n",
    "    \"SELECT * FROM WeatherData WHERE Season = 'Fall';\",  # All the Fall records\n",
    "    \"SELECT City, Country, Season FROM WeatherData WHERE Rainfall BETWEEN 200 AND 400;\",  # The city, country, and season for which the average rainfall is between 200 and 400 millimeters\n",
    "    \"SELECT City, Country FROM WeatherData WHERE Season = 'Fall' AND Temperature > 20 ORDER BY Temperature;\",  # The city and country for which the average Fall temperature is above 20 degrees, in increasing temperature order\n",
    "    \"SELECT SUM(Rainfall) FROM WeatherData WHERE City = 'Cairo';\",  # The total annual rainfall for Cairo\n",
    "    \"SELECT Season, SUM(Rainfall) FROM WeatherData GROUP BY Season;\"  # The total rainfall for each season\n",
    "]\n",
    "\n",
    "# Execution of the queries and printing the results\n",
    "for i, query in enumerate(queries, 1):\n",
    "    result = conn.execute(query)\n",
    "    print(f\"Query {i}:\")\n",
    "    print(result.fetchall())\n",
    "    print()\n",
    "\n",
    "# Closing the database connection\n",
    "conn.close()\n"
   ]
  },
  {
   "cell_type": "markdown",
   "id": "84f57e93",
   "metadata": {},
   "source": [
    "Question 9.\n",
    ". Suppose list words is defined as follows:\n",
    ">>> words = ['The', 'quick', 'brown', 'fox', 'jumps', 'over', \n",
    "'the', 'lazy', 'dog']\n",
    "Write list comprehension expressions that use list words and generate the following \n",
    "lists:\n",
    "a) ['THE', 'QUICK', 'BROWN', 'FOX', 'JUMPS', 'OVER', 'THE', \n",
    "'LAZY', 'DOG']\n",
    "b) ['the', 'quick', 'brown', 'fox', 'jumps', 'over', 'the', \n",
    "'lazy', 'dog']\n",
    "c) [3, 5, 5, 3, 5, 4, 3, 4, 3] (the list of lengths of words in list\n",
    "words).\n",
    "d) [['THE', 'the', 3], ['QUICK', 'quick', 5], ['BROWN',\n",
    "'brown', 5], ['FOX', 'fox', 3], ['JUMPS', 'jumps', 5],\n",
    "['OVER', 'over', 4], ['THE', 'the', 3], ['LAZY', 'lazy',\n",
    "4], ['DOG', 'dog', 3]] (the list containing a list for every word of list \n",
    "words, where each list contains the word in uppercase and lowercase and the \n",
    "length of the word.)\n",
    "e) ['The', 'quick', 'brown', 'fox', 'jumps', 'over', 'the', \n",
    "'lazy', 'dog'] (the list of words in list words containing 4 or more \n",
    "characters.)\n"
   ]
  },
  {
   "cell_type": "code",
   "execution_count": 42,
   "id": "6f65f498",
   "metadata": {},
   "outputs": [
    {
     "name": "stdout",
     "output_type": "stream",
     "text": [
      "List a): ['THE', 'QUICK', 'BROWN', 'FOX', 'JUMPS', 'OVER', 'THE', 'LAZY', 'DOG']\n",
      "List b): ['the', 'quick', 'brown', 'fox', 'jumps', 'over', 'the', 'lazy', 'dog']\n",
      "List c): [3, 5, 5, 3, 5, 4, 3, 4, 3]\n",
      "List d): [['THE', 'the', 3], ['QUICK', 'quick', 5], ['BROWN', 'brown', 5], ['FOX', 'fox', 3], ['JUMPS', 'jumps', 5], ['OVER', 'over', 4], ['THE', 'the', 3], ['LAZY', 'lazy', 4], ['DOG', 'dog', 3]]\n",
      "List e): ['quick', 'brown', 'jumps', 'over', 'lazy']\n"
     ]
    }
   ],
   "source": [
    "words = ['The', 'quick', 'brown', 'fox', 'jumps', 'over', 'the', 'lazy', 'dog']\n",
    "\n",
    "# a) Uppercase version of each word\n",
    "list_a = [word.upper() for word in words]\n",
    "\n",
    "# b) Lowercase version of each word\n",
    "list_b = [word.lower() for word in words]\n",
    "\n",
    "# c) Length of each word\n",
    "list_c = [len(word) for word in words]\n",
    "\n",
    "# d) List containing word, lowercase version, and length for each word\n",
    "list_d = [[word.upper(), word.lower(), len(word)] for word in words]\n",
    "\n",
    "# e) Words containing 4 or more than 4 characters\n",
    "list_e = [word for word in words if len(word) >= 4]\n",
    "\n",
    "# Printing the generated lists\n",
    "print(\"List a):\", list_a)\n",
    "print(\"List b):\", list_b)\n",
    "print(\"List c):\", list_c)\n",
    "print(\"List d):\", list_d)\n",
    "print(\"List e):\", list_e)\n"
   ]
  },
  {
   "cell_type": "code",
   "execution_count": null,
   "id": "894972e5",
   "metadata": {},
   "outputs": [],
   "source": []
  }
 ],
 "metadata": {
  "kernelspec": {
   "display_name": "Python 3 (ipykernel)",
   "language": "python",
   "name": "python3"
  },
  "language_info": {
   "codemirror_mode": {
    "name": "ipython",
    "version": 3
   },
   "file_extension": ".py",
   "mimetype": "text/x-python",
   "name": "python",
   "nbconvert_exporter": "python",
   "pygments_lexer": "ipython3",
   "version": "3.10.9"
  }
 },
 "nbformat": 4,
 "nbformat_minor": 5
}
